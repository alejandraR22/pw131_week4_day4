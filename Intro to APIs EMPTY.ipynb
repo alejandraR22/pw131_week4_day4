{
 "cells": [
  {
   "cell_type": "markdown",
   "id": "7196054f",
   "metadata": {},
   "source": [
    "# Working with APIs"
   ]
  },
  {
   "cell_type": "markdown",
   "id": "0547b71e",
   "metadata": {},
   "source": [
    "API stands for Application programming interface<br>\n",
    "APIs are a way for applications to talk to eachother<br>\n",
    "In python we use the requests package to handle the connection<br>\n",
    "<small><strong>Note: It is requests with an s not request(this is a different package)</strong></small><br>\n",
    "Most API's communicate with data in the form of JSON<br>\n",
    "JSON stands for JavaScript Object Notation"
   ]
  },
  {
   "cell_type": "code",
   "execution_count": 3,
   "id": "4db9d154",
   "metadata": {},
   "outputs": [],
   "source": [
    "#import the packages we need:\n",
    "import requests as r "
   ]
  },
  {
   "cell_type": "markdown",
   "id": "e8c2ce51",
   "metadata": {},
   "source": [
    "We will be connecting to the Ergast F1 Racer API today:\n",
    "http://ergast.com/mrd/\n",
    "\n",
    "to view JSON data nicely in the Chrome browser install the extension JSONview"
   ]
  },
  {
   "cell_type": "code",
   "execution_count": 4,
   "id": "52c440c6",
   "metadata": {},
   "outputs": [
    {
     "name": "stdout",
     "output_type": "stream",
     "text": [
      "<Response [200]>\n",
      "<class 'requests.models.Response'>\n"
     ]
    }
   ],
   "source": [
    "url = \"http://ergast.com/api/f1/2008/5/driverStandings.json\"\n",
    "result = r.get(url)\n",
    "print(result)\n",
    "print(type(result))"
   ]
  },
  {
   "cell_type": "code",
   "execution_count": 5,
   "id": "f60c1b4a",
   "metadata": {},
   "outputs": [
    {
     "name": "stdout",
     "output_type": "stream",
     "text": [
      "True\n",
      "200\n"
     ]
    }
   ],
   "source": [
    "print(result.ok)\n",
    "print(result.status_code)"
   ]
  },
  {
   "cell_type": "code",
   "execution_count": 10,
   "id": "7b63a204",
   "metadata": {},
   "outputs": [
    {
     "name": "stdout",
     "output_type": "stream",
     "text": [
      "Kimi Räikkönen was driving a Ferrari and came in postion 1\n",
      "Felipe Massa was driving a Ferrari and came in postion 2\n",
      "Lewis Hamilton was driving a McLaren and came in postion 3\n",
      "Robert Kubica was driving a BMW Sauber and came in postion 4\n",
      "Nick Heidfeld was driving a BMW Sauber and came in postion 5\n",
      "Heikki Kovalainen was driving a McLaren and came in postion 6\n",
      "Mark Webber was driving a Red Bull and came in postion 7\n",
      "Fernando Alonso was driving a Renault and came in postion 8\n",
      "Jarno Trulli was driving a Toyota and came in postion 9\n",
      "Nico Rosberg was driving a Williams and came in postion 10\n",
      "Kazuki Nakajima was driving a Williams and came in postion 11\n",
      "Jenson Button was driving a Honda and came in postion 12\n",
      "Sébastien Bourdais was driving a Toro Rosso and came in postion 13\n",
      "David Coulthard was driving a Red Bull and came in postion 14\n",
      "Timo Glock was driving a Toyota and came in postion 15\n",
      "Giancarlo Fisichella was driving a Force India and came in postion 16\n",
      "Rubens Barrichello was driving a Honda and came in postion 17\n",
      "Nelson Piquet Jr. was driving a Renault and came in postion 18\n",
      "Takuma Sato was driving a Super Aguri and came in postion 19\n",
      "Anthony Davidson was driving a Super Aguri and came in postion 20\n",
      "Adrian Sutil was driving a Force India and came in postion 21\n",
      "Sebastian Vettel was driving a Toro Rosso and came in postion 22\n"
     ]
    }
   ],
   "source": [
    "#response object\n",
    "data = result.json()\n",
    "#print(data)\n",
    "standings = data ['MRData']['StandingsTable']['StandingsLists'][0]['DriverStandings']\n",
    "for person in standings:\n",
    "    name = f'{person[\"Driver\"][\"givenName\"]} {person[\"Driver\"][\"familyName\"]}'\n",
    "    car = person['Constructors'][0]['name']\n",
    "    position = person['position']\n",
    "    \n",
    "    string = f'{name} was driving a {car} and came in postion {position}'\n",
    "    \n",
    "    print(string)"
   ]
  },
  {
   "cell_type": "code",
   "execution_count": null,
   "id": "009fd68f",
   "metadata": {},
   "outputs": [],
   "source": []
  },
  {
   "cell_type": "code",
   "execution_count": 3,
   "id": "c6d1fdaf",
   "metadata": {},
   "outputs": [],
   "source": [
    "#check and make sure we got a successful response from the API\n"
   ]
  },
  {
   "cell_type": "code",
   "execution_count": 4,
   "id": "ed4d3256",
   "metadata": {},
   "outputs": [],
   "source": [
    "#view the response as a JSON\n"
   ]
  },
  {
   "cell_type": "code",
   "execution_count": null,
   "id": "92e6cd2c",
   "metadata": {},
   "outputs": [],
   "source": []
  },
  {
   "cell_type": "code",
   "execution_count": 5,
   "id": "f074dfcf",
   "metadata": {},
   "outputs": [],
   "source": [
    "# We only want the Driver Standings\n",
    "get_racer_info(2008,5)"
   ]
  },
  {
   "cell_type": "code",
   "execution_count": null,
   "id": "be46a950",
   "metadata": {},
   "outputs": [],
   "source": []
  },
  {
   "cell_type": "code",
   "execution_count": null,
   "id": "3740c752",
   "metadata": {},
   "outputs": [],
   "source": []
  },
  {
   "cell_type": "markdown",
   "id": "6d546014",
   "metadata": {},
   "source": [
    "# <strong>Homework</strong>\n",
    "check out this Pokemon API https://pokeapi.co/\n",
    "Use the requests package to connect to this API and get and store data for 5 different pokemon.\n",
    "Get the pokemons: name, atleast one ability's name, base_experience, and the URL for its sprite (an image that shows up on screen) for the 'front_shiny', attack base_state, hp base_stat, defense base_stat"
   ]
  },
  {
   "cell_type": "code",
   "execution_count": 2,
   "id": "5a9081e3",
   "metadata": {},
   "outputs": [
    {
     "name": "stdout",
     "output_type": "stream",
     "text": [
      "Name: pikachu\n",
      "Ability: static\n",
      "Base Experience: 112\n",
      "Sprite URL: https://raw.githubusercontent.com/PokeAPI/sprites/master/sprites/pokemon/shiny/25.png\n",
      "Attack Base Stat: 55\n",
      "HP Base Stat: 35\n",
      "Defense Base Stat: 40\n",
      "\n",
      "\n",
      "Name: charizard\n",
      "Ability: blaze\n",
      "Base Experience: 267\n",
      "Sprite URL: https://raw.githubusercontent.com/PokeAPI/sprites/master/sprites/pokemon/shiny/6.png\n",
      "Attack Base Stat: 84\n",
      "HP Base Stat: 78\n",
      "Defense Base Stat: 78\n",
      "\n",
      "\n",
      "Name: bulbasaur\n",
      "Ability: overgrow\n",
      "Base Experience: 64\n",
      "Sprite URL: https://raw.githubusercontent.com/PokeAPI/sprites/master/sprites/pokemon/shiny/1.png\n",
      "Attack Base Stat: 49\n",
      "HP Base Stat: 45\n",
      "Defense Base Stat: 49\n",
      "\n",
      "\n",
      "Name: squirtle\n",
      "Ability: torrent\n",
      "Base Experience: 63\n",
      "Sprite URL: https://raw.githubusercontent.com/PokeAPI/sprites/master/sprites/pokemon/shiny/7.png\n",
      "Attack Base Stat: 48\n",
      "HP Base Stat: 44\n",
      "Defense Base Stat: 65\n",
      "\n",
      "\n",
      "Name: jigglypuff\n",
      "Ability: cute-charm\n",
      "Base Experience: 95\n",
      "Sprite URL: https://raw.githubusercontent.com/PokeAPI/sprites/master/sprites/pokemon/shiny/39.png\n",
      "Attack Base Stat: 45\n",
      "HP Base Stat: 115\n",
      "Defense Base Stat: 20\n",
      "\n",
      "\n"
     ]
    }
   ],
   "source": [
    "\n",
    "import requests\n",
    "\n",
    "class PokemonDataFetcher:\n",
    "    def __init__(self):\n",
    "        self.base_url = \"https://pokeapi.co/api/v2/pokemon/\"\n",
    "\n",
    "    def fetch_pokemon_data(self, pokemon_names):\n",
    "        pokemon_data = []\n",
    "\n",
    "        for name in pokemon_names:\n",
    "            url = f\"{self.base_url}{name}/\"\n",
    "            response = requests.get(url)\n",
    "\n",
    "            if response.status_code == 200:\n",
    "                data = response.json()\n",
    "                pokemon_info = {\n",
    "                    'name': data['name'],\n",
    "                    'ability': data['abilities'][0]['ability']['name'],\n",
    "                    'base_experience': data['base_experience'],\n",
    "                    'sprite_url': data['sprites']['front_shiny'],\n",
    "                    'attack_base_stat': data['stats'][1]['base_stat'],\n",
    "                    'hp_base_stat': data['stats'][0]['base_stat'],\n",
    "                    'defense_base_stat': data['stats'][2]['base_stat']\n",
    "                }\n",
    "                pokemon_data.append(pokemon_info)\n",
    "\n",
    "        return pokemon_data\n",
    "\n",
    "if __name__ == \"__main__\":\n",
    "    pokemon_names = ['pikachu', 'charizard', 'bulbasaur', 'squirtle', 'jigglypuff']\n",
    "\n",
    "    data_fetcher = PokemonDataFetcher()\n",
    "    pokemon_data = data_fetcher.fetch_pokemon_data(pokemon_names)\n",
    "\n",
    "    for pokemon in pokemon_data:\n",
    "        print(\"Name:\", pokemon['name'])\n",
    "        print(\"Ability:\", pokemon['ability'])\n",
    "        print(\"Base Experience:\", pokemon['base_experience'])\n",
    "        print(\"Sprite URL:\", pokemon['sprite_url'])\n",
    "        print(\"Attack Base Stat:\", pokemon['attack_base_stat'])\n",
    "        print(\"HP Base Stat:\", pokemon['hp_base_stat'])\n",
    "        print(\"Defense Base Stat:\", pokemon['defense_base_stat'])\n",
    "        print(\"\\n\")\n",
    "\n"
   ]
  }
 ],
 "metadata": {
  "kernelspec": {
   "display_name": "Python 3",
   "language": "python",
   "name": "python3"
  },
  "language_info": {
   "codemirror_mode": {
    "name": "ipython",
    "version": 3
   },
   "file_extension": ".py",
   "mimetype": "text/x-python",
   "name": "python",
   "nbconvert_exporter": "python",
   "pygments_lexer": "ipython3",
   "version": "3.11.4"
  }
 },
 "nbformat": 4,
 "nbformat_minor": 5
}
